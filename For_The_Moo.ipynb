{
 "cells": [
  {
   "cell_type": "code",
   "execution_count": null,
   "id": "b1d17a46",
   "metadata": {},
   "outputs": [
    {
     "name": "stdout",
     "output_type": "stream",
     "text": [
      "Moo is Free\n",
      "Moo is Peter\n",
      "Moo is the Cow\n",
      "Moo is the Wii Fit Trainer\n",
      "Moo is the Negroni Lover\n",
      "Moo is the Handsome Lad\n",
      "Moo is the Tall Boy\n",
      "Moo is Moo\n"
     ]
    }
   ],
   "source": [
    "Moo = [\"Free\", \"Peter\", \"Cow\", \"Wii Fit Trainer\", \"Negroni Lover\",\n",
    "      \"Handsome Lad\", \"Tall Boy\", \"Free The Moo\", \"Moo\"]\n",
    "The = [\"Cow\", \"Wii Fit Trainer\", \"Negroni Lover\", \"Handsome Lad\", \"Tall Boy\",]\n",
    "No_The = [\"Free\", \"Peter\", \"Free the Moo\", \"Moo\"]\n",
    "\n",
    "for P in Moo:\n",
    "    if P in The:\n",
    "        print(\"Moo is the\", P)\n",
    "    if P in No_The:\n",
    "        print(\"Moo is\", P)"
   ]
  }
 ],
 "metadata": {
  "kernelspec": {
   "display_name": "Python 3 (ipykernel)",
   "language": "python",
   "name": "python3"
  },
  "language_info": {
   "codemirror_mode": {
    "name": "ipython",
    "version": 3
   },
   "file_extension": ".py",
   "mimetype": "text/x-python",
   "name": "python",
   "nbconvert_exporter": "python",
   "pygments_lexer": "ipython3",
   "version": "3.9.13"
  }
 },
 "nbformat": 4,
 "nbformat_minor": 5
}
